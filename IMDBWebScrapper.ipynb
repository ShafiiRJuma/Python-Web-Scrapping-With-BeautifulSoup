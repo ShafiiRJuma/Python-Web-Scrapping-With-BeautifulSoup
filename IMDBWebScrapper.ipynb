{
 "cells": [
  {
   "cell_type": "markdown",
   "id": "a4c602df-786b-4468-aa6f-e031cf012d32",
   "metadata": {},
   "source": [
    "### IMDB WEB SCRAPPING WITH PYTHON BEAUTIFULSOUP\n",
    "\n",
    "Data Collection is part of the Data Scientist job and not all the data come reafy or found ready-made, sometimes <br/>\n",
    "scrapping websites has to be done to get all the data and clean them to do analysis and other model training.\n",
    "Learning Web scrapping using python it's necessary for anyone aspiring to become a data scientist.\n",
    "Here is my small code that i wrote while learning python to be able to scrape imdb website and return top rated movies with their imdb ratings."
   ]
  },
  {
   "cell_type": "code",
   "execution_count": 73,
   "id": "5f57b2e1-2ebe-483f-9816-4b70786e58fe",
   "metadata": {},
   "outputs": [
    {
     "name": "stdout",
     "output_type": "stream",
     "text": [
      "1. Breaking Bad, ratings: 9.5\n",
      "2. Planet Earth II, ratings: 9.5\n",
      "3. Planet Earth, ratings: 9.4\n",
      "4. Band of Brothers, ratings: 9.4\n",
      "5. Chernobyl, ratings: 9.3\n",
      "6. The Wire, ratings: 9.3\n",
      "7. Avatar: The Last Airbender, ratings: 9.3\n",
      "8. Blue Planet II, ratings: 9.3\n",
      "9. The Sopranos, ratings: 9.2\n",
      "10. Cosmos: A Spacetime Odyssey, ratings: 9.2\n",
      "11. Cosmos, ratings: 9.3\n",
      "12. Our Planet, ratings: 9.2\n",
      "13. Game of Thrones, ratings: 9.2\n",
      "14. Bluey, ratings: 9.3\n",
      "15. The World at War, ratings: 9.2\n",
      "16. Hagane no renkinjutsushi, ratings: 9.1\n",
      "17. Rick and Morty, ratings: 9.1\n",
      "18. Life, ratings: 9.1\n",
      "19. The Last Dance, ratings: 9.0\n",
      "20. The Twilight Zone, ratings: 9.0\n",
      "21. The Vietnam War, ratings: 9.1\n",
      "22. Sherlock, ratings: 9.1\n",
      "23. Shingeki no Kyojin, ratings: 9.1\n",
      "24. Batman: The Animated Series, ratings: 9.0\n",
      "25. Arcane: League of Legends, ratings: 9.0\n"
     ]
    }
   ],
   "source": [
    "from bs4 import BeautifulSoup\n",
    "import requests\n",
    "\n",
    "HEADERS = {'User-Agent': 'Mozilla/5.0 (iPad; CPU OS 12_2 like Mac OS X) AppleWebKit/605.1.15 (KHTML, like Gecko) Mobile/15E148'}\n",
    "\n",
    "top_250_movies = requests.get('https://www.imdb.com/chart/toptv/',headers=HEADERS).text\n",
    "soup = BeautifulSoup(top_250_movies,'html.parser')\n",
    "\n",
    "top_tv_shows = soup.find_all('li',class_=\"ipc-metadata-list-summary-item sc-4929eaf6-0 DLYcv cli-parent\")\n",
    "\n",
    "for top_tv_show in top_tv_shows:\n",
    "    title = top_tv_show.find('h3',class_='ipc-title__text').text\n",
    "    ratings = top_tv_show.find('span',class_='ipc-rating-star--rating').text\n",
    "    print(f\"{title}, ratings: {ratings}\")"
   ]
  },
  {
   "cell_type": "code",
   "execution_count": null,
   "id": "69571622-f593-4cf1-8616-98b04e0c1525",
   "metadata": {},
   "outputs": [],
   "source": []
  }
 ],
 "metadata": {
  "kernelspec": {
   "display_name": "Python 3 (ipykernel)",
   "language": "python",
   "name": "python3"
  },
  "language_info": {
   "codemirror_mode": {
    "name": "ipython",
    "version": 3
   },
   "file_extension": ".py",
   "mimetype": "text/x-python",
   "name": "python",
   "nbconvert_exporter": "python",
   "pygments_lexer": "ipython3",
   "version": "3.12.7"
  }
 },
 "nbformat": 4,
 "nbformat_minor": 5
}
